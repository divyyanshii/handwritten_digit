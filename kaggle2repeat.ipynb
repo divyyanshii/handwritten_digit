{
  "nbformat": 4,
  "nbformat_minor": 0,
  "metadata": {
    "colab": {
      "name": "kaggle2repeat.ipynb",
      "provenance": [],
      "include_colab_link": true
    },
    "kernelspec": {
      "name": "python3",
      "display_name": "Python 3"
    }
  },
  "cells": [
    {
      "cell_type": "markdown",
      "metadata": {
        "id": "view-in-github",
        "colab_type": "text"
      },
      "source": [
        "<a href=\"https://colab.research.google.com/github/divyyanshii/handwritten_digit/blob/main/kaggle2repeat.ipynb\" target=\"_parent\"><img src=\"https://colab.research.google.com/assets/colab-badge.svg\" alt=\"Open In Colab\"/></a>"
      ]
    },
    {
      "cell_type": "code",
      "metadata": {
        "id": "pBZSgqD4qoOb"
      },
      "source": [
        "import matplotlib.pyplot as plt\n",
        "import sklearn.ensemble\n",
        "import sklearn.manifold\n",
        "import sklearn.decomposition\n",
        "import sklearn.metrics\n",
        "import numpy as np\n",
        "import pandas as pd\n",
        "from sklearn.model_selection import train_test_split"
      ],
      "execution_count": null,
      "outputs": []
    },
    {
      "cell_type": "code",
      "metadata": {
        "colab": {
          "base_uri": "https://localhost:8080/"
        },
        "id": "zB7o6okDq1Pz",
        "outputId": "27724cf5-8eaf-469c-d21f-f3fa90093658"
      },
      "source": [
        "data=pd.read_csv('/content/train.csv')\n",
        "test=pd.read_csv('/content/test.csv')\n",
        "\n",
        "np.sum(data.iloc[:,1:94] > 40)\n"
      ],
      "execution_count": null,
      "outputs": [
        {
          "output_type": "execute_result",
          "data": {
            "text/plain": [
              "feat_1      0\n",
              "feat_2      0\n",
              "feat_3      0\n",
              "feat_4      9\n",
              "feat_5      0\n",
              "           ..\n",
              "feat_89     3\n",
              "feat_90    43\n",
              "feat_91     0\n",
              "feat_92     0\n",
              "feat_93     1\n",
              "Length: 93, dtype: int64"
            ]
          },
          "metadata": {
            "tags": []
          },
          "execution_count": 2
        }
      ]
    },
    {
      "cell_type": "code",
      "metadata": {
        "colab": {
          "base_uri": "https://localhost:8080/"
        },
        "id": "8CRR5XADrEFE",
        "outputId": "e8860961-cdc7-4af5-ae72-32642a92bd50"
      },
      "source": [
        "X=np.asarray(data.iloc[:,1:-1].dropna(),dtype=np.float32)\n",
        "print (X.shape)\n",
        "Y=np.asarray(data.iloc[:,-1])\n",
        "print (Y, Y.shape, len(np.unique(Y)))"
      ],
      "execution_count": null,
      "outputs": [
        {
          "output_type": "stream",
          "text": [
            "(10000, 93)\n",
            "[6 6 2 ... 6 3 3] (10000,) 9\n"
          ],
          "name": "stdout"
        }
      ]
    },
    {
      "cell_type": "code",
      "metadata": {
        "colab": {
          "base_uri": "https://localhost:8080/"
        },
        "id": "y0yWC86ts4Xt",
        "outputId": "736ac082-9bb3-41d7-c390-75b915e9a12e"
      },
      "source": [
        "from sklearn.preprocessing import StandardScaler\n",
        "X_stan = StandardScaler().fit_transform(X)\n",
        "X_stan"
      ],
      "execution_count": null,
      "outputs": [
        {
          "output_type": "execute_result",
          "data": {
            "text/plain": [
              "array([[-0.26990068, -0.22786725,  3.9617624 , ..., -0.12505652,\n",
              "        -0.38217062, -0.11774571],\n",
              "       [-0.26990068, -0.22786725,  5.0311604 , ..., -0.12505652,\n",
              "         0.6097075 , -0.11774571],\n",
              "       [ 1.1446731 , -0.22786725, -0.3158288 , ..., -0.12505652,\n",
              "        -0.38217062, -0.11774571],\n",
              "       ...,\n",
              "       [-0.26990068, -0.22786725,  4.3182282 , ..., -0.12505652,\n",
              "        -0.38217062, -0.11774571],\n",
              "       [ 1.1446731 , -0.22786725, -0.3158288 , ..., -0.12505652,\n",
              "        -0.38217062, -0.11774571],\n",
              "       [-0.26990068, -0.22786725, -0.3158288 , ..., -0.12505652,\n",
              "        -0.38217062, -0.11774571]], dtype=float32)"
            ]
          },
          "metadata": {
            "tags": []
          },
          "execution_count": 4
        }
      ]
    },
    {
      "cell_type": "code",
      "metadata": {
        "colab": {
          "base_uri": "https://localhost:8080/"
        },
        "id": "67BOLMnpz7pp",
        "outputId": "89108619-8fb2-467c-dbb5-5fffab7488d7"
      },
      "source": [
        "X_train, X_test, y_train, y_test = train_test_split(X_stan, Y, test_size=0.2, shuffle = False)\n",
        "X_train.shape"
      ],
      "execution_count": null,
      "outputs": [
        {
          "output_type": "execute_result",
          "data": {
            "text/plain": [
              "(8000, 93)"
            ]
          },
          "metadata": {
            "tags": []
          },
          "execution_count": 5
        }
      ]
    },
    {
      "cell_type": "code",
      "metadata": {
        "id": "kFmWXhZ00LhH"
      },
      "source": [
        "from sklearn.decomposition import PCA\n",
        "pca = PCA(n_components=2)\n",
        "pca.fit(X_train)\n",
        "model_pca_trans = pca.fit_transform(X_train)"
      ],
      "execution_count": null,
      "outputs": []
    },
    {
      "cell_type": "code",
      "metadata": {
        "colab": {
          "base_uri": "https://localhost:8080/"
        },
        "id": "q0IwRNUB0Qto",
        "outputId": "27283f75-21fb-4db4-bcea-0342a5317c9a"
      },
      "source": [
        "from sklearn.linear_model import LogisticRegression\n",
        "from sklearn.ensemble import RandomForestClassifier\n",
        "from sklearn.model_selection import GridSearchCV\n",
        "\n",
        "lr = LogisticRegression(n_jobs = -1)\n",
        "\n",
        "# Set of parameters we want to try for out Model\n",
        "parameters = { 'C' : np.power(10., np.arange(-4,4,1,dtype=int))}\n",
        "\n",
        "#Running the Model with above chosen parameter\n",
        "grid_search = GridSearchCV(estimator = lr, param_grid = parameters , scoring = 'accuracy', cv = 3, n_jobs = -1 , verbose = 2)\n",
        "grid_scores = grid_search.fit(X_train , y_train)\n",
        "\n",
        "print(grid_search.best_params_, '\\n')\n",
        "print(grid_search.best_score_, '\\n')\n",
        "print(grid_search.best_estimator_, '\\n')"
      ],
      "execution_count": null,
      "outputs": [
        {
          "output_type": "stream",
          "text": [
            "Fitting 3 folds for each of 8 candidates, totalling 24 fits\n"
          ],
          "name": "stdout"
        },
        {
          "output_type": "stream",
          "text": [
            "[Parallel(n_jobs=-1)]: Using backend LokyBackend with 2 concurrent workers.\n",
            "[Parallel(n_jobs=-1)]: Done  24 out of  24 | elapsed:   11.8s finished\n"
          ],
          "name": "stderr"
        },
        {
          "output_type": "stream",
          "text": [
            "{'C': 1.0} \n",
            "\n",
            "0.7489998202587768 \n",
            "\n",
            "LogisticRegression(C=1.0, class_weight=None, dual=False, fit_intercept=True,\n",
            "                   intercept_scaling=1, l1_ratio=None, max_iter=100,\n",
            "                   multi_class='auto', n_jobs=-1, penalty='l2',\n",
            "                   random_state=None, solver='lbfgs', tol=0.0001, verbose=0,\n",
            "                   warm_start=False) \n",
            "\n"
          ],
          "name": "stdout"
        }
      ]
    },
    {
      "cell_type": "code",
      "metadata": {
        "colab": {
          "base_uri": "https://localhost:8080/"
        },
        "id": "pthDSrnj0VoR",
        "outputId": "011dce8f-9ead-48a5-98b4-5a79f139376b"
      },
      "source": [
        "from sklearn import metrics\n",
        "\n",
        "print('LogisticRegression')\n",
        "print('accuracy', metrics.accuracy_score(y_test, grid_search.predict(X_test)))"
      ],
      "execution_count": null,
      "outputs": [
        {
          "output_type": "stream",
          "text": [
            "LogisticRegression\n",
            "accuracy 0.7615\n"
          ],
          "name": "stdout"
        }
      ]
    },
    {
      "cell_type": "code",
      "metadata": {
        "colab": {
          "base_uri": "https://localhost:8080/"
        },
        "id": "uOyIf3ym0cJi",
        "outputId": "3e6c7123-e271-4cdb-bcaf-c98ab892a2af"
      },
      "source": [
        "rf= RandomForestClassifier(n_estimators=200)\n",
        "\n",
        "# Set of parameters we want to try for out Model\n",
        "parameters_rf = {'max_depth': np.arange(2,48,2,dtype=int)}\n",
        "\n",
        "#Running the Model with above chosen parameter\n",
        "grid_search_rf = GridSearchCV(estimator = rf, param_grid = parameters_rf , scoring = 'accuracy', cv = 3, n_jobs = -1 , verbose = 2)\n",
        "grid_scores = grid_search_rf.fit(X_train , y_train)\n",
        "\n",
        "print(grid_search_rf.best_params_, '\\n')\n",
        "print(grid_search_rf.best_score_, '\\n')\n",
        "print(grid_search_rf.best_estimator_, '\\n')\n",
        "print('accuracy', metrics.accuracy_score(y_test, grid_search_rf.predict(X_test)))"
      ],
      "execution_count": null,
      "outputs": [
        {
          "output_type": "stream",
          "text": [
            "Fitting 3 folds for each of 23 candidates, totalling 69 fits\n"
          ],
          "name": "stdout"
        },
        {
          "output_type": "stream",
          "text": [
            "[Parallel(n_jobs=-1)]: Using backend LokyBackend with 2 concurrent workers.\n",
            "[Parallel(n_jobs=-1)]: Done  37 tasks      | elapsed:   49.4s\n",
            "[Parallel(n_jobs=-1)]: Done  69 out of  69 | elapsed:  1.9min finished\n"
          ],
          "name": "stderr"
        },
        {
          "output_type": "stream",
          "text": [
            "{'max_depth': 34} \n",
            "\n",
            "0.7681249614990925 \n",
            "\n",
            "RandomForestClassifier(bootstrap=True, ccp_alpha=0.0, class_weight=None,\n",
            "                       criterion='gini', max_depth=34, max_features='auto',\n",
            "                       max_leaf_nodes=None, max_samples=None,\n",
            "                       min_impurity_decrease=0.0, min_impurity_split=None,\n",
            "                       min_samples_leaf=1, min_samples_split=2,\n",
            "                       min_weight_fraction_leaf=0.0, n_estimators=200,\n",
            "                       n_jobs=None, oob_score=False, random_state=None,\n",
            "                       verbose=0, warm_start=False) \n",
            "\n",
            "accuracy 0.78\n"
          ],
          "name": "stdout"
        }
      ]
    },
    {
      "cell_type": "code",
      "metadata": {
        "colab": {
          "base_uri": "https://localhost:8080/"
        },
        "id": "21mpU6da0ohl",
        "outputId": "e8328929-ece4-495f-c5f0-ab55928f27bb"
      },
      "source": [
        "test_=np.asarray(test.iloc[:,1:].dropna(),dtype=np.float32)\n",
        "#print(X_test.shape)\n",
        "rf = RandomForestClassifier(n_estimators=200)\n",
        "rf.fit(X,Y)\n",
        "pred = rf.predict(test_)\n",
        "pred"
      ],
      "execution_count": null,
      "outputs": [
        {
          "output_type": "execute_result",
          "data": {
            "text/plain": [
              "array([5, 2, 8, ..., 6, 3, 6])"
            ]
          },
          "metadata": {
            "tags": []
          },
          "execution_count": 10
        }
      ]
    },
    {
      "cell_type": "code",
      "metadata": {
        "colab": {
          "base_uri": "https://localhost:8080/"
        },
        "id": "Zd8MXzra0-31",
        "outputId": "447c48bd-88ed-4268-bfac-ed008f604021"
      },
      "source": [
        "c1 = np.zeros(test_.shape[0],dtype=int)\n",
        "c1[pred==1] = 1\n",
        "c2 = np.zeros(test_.shape[0],dtype=int)\n",
        "c2[pred==2] = 1\n",
        "c3 = np.zeros(test_.shape[0],dtype=int)\n",
        "c3[pred==3] = 1\n",
        "c4 = np.zeros(test_.shape[0],dtype=int)\n",
        "c4[pred==4] = 1\n",
        "c5 = np.zeros(test_.shape[0],dtype=int)\n",
        "c5[pred==5] = 1\n",
        "c6 = np.zeros(test_.shape[0],dtype=int)\n",
        "c6[pred==6] = 1\n",
        "c7 = np.zeros(test_.shape[0],dtype=int)\n",
        "c7[pred==7] = 1\n",
        "c8 = np.zeros(test_.shape[0],dtype=int)\n",
        "c8[pred==8] = 1\n",
        "c9 = np.zeros(test_.shape[0],dtype=int)\n",
        "c9[pred==9] = 1\n",
        "o = test[['ID']]\n",
        "#c1.shape\n",
        "o['Class_1'] = pd.Series(c1)\n",
        "o['Class_2'] = pd.Series(c2)\n",
        "o['Class_3'] = pd.Series(c3)\n",
        "o['Class_4'] = pd.Series(c4)\n",
        "o['Class_5'] = pd.Series(c5)\n",
        "o['Class_6'] = pd.Series(c6)\n",
        "o['Class_7'] = pd.Series(c7)\n",
        "o['Class_8'] = pd.Series(c8)\n",
        "o['Class_9'] = pd.Series(c9)\n",
        "o.head()\n",
        "o.to_csv(\"submit2.csv\", index=False)"
      ],
      "execution_count": null,
      "outputs": [
        {
          "output_type": "stream",
          "text": [
            "/usr/local/lib/python3.6/dist-packages/ipykernel_launcher.py:21: SettingWithCopyWarning: \n",
            "A value is trying to be set on a copy of a slice from a DataFrame.\n",
            "Try using .loc[row_indexer,col_indexer] = value instead\n",
            "\n",
            "See the caveats in the documentation: https://pandas.pydata.org/pandas-docs/stable/user_guide/indexing.html#returning-a-view-versus-a-copy\n",
            "/usr/local/lib/python3.6/dist-packages/ipykernel_launcher.py:22: SettingWithCopyWarning: \n",
            "A value is trying to be set on a copy of a slice from a DataFrame.\n",
            "Try using .loc[row_indexer,col_indexer] = value instead\n",
            "\n",
            "See the caveats in the documentation: https://pandas.pydata.org/pandas-docs/stable/user_guide/indexing.html#returning-a-view-versus-a-copy\n",
            "/usr/local/lib/python3.6/dist-packages/ipykernel_launcher.py:23: SettingWithCopyWarning: \n",
            "A value is trying to be set on a copy of a slice from a DataFrame.\n",
            "Try using .loc[row_indexer,col_indexer] = value instead\n",
            "\n",
            "See the caveats in the documentation: https://pandas.pydata.org/pandas-docs/stable/user_guide/indexing.html#returning-a-view-versus-a-copy\n",
            "/usr/local/lib/python3.6/dist-packages/ipykernel_launcher.py:24: SettingWithCopyWarning: \n",
            "A value is trying to be set on a copy of a slice from a DataFrame.\n",
            "Try using .loc[row_indexer,col_indexer] = value instead\n",
            "\n",
            "See the caveats in the documentation: https://pandas.pydata.org/pandas-docs/stable/user_guide/indexing.html#returning-a-view-versus-a-copy\n",
            "/usr/local/lib/python3.6/dist-packages/ipykernel_launcher.py:25: SettingWithCopyWarning: \n",
            "A value is trying to be set on a copy of a slice from a DataFrame.\n",
            "Try using .loc[row_indexer,col_indexer] = value instead\n",
            "\n",
            "See the caveats in the documentation: https://pandas.pydata.org/pandas-docs/stable/user_guide/indexing.html#returning-a-view-versus-a-copy\n",
            "/usr/local/lib/python3.6/dist-packages/ipykernel_launcher.py:26: SettingWithCopyWarning: \n",
            "A value is trying to be set on a copy of a slice from a DataFrame.\n",
            "Try using .loc[row_indexer,col_indexer] = value instead\n",
            "\n",
            "See the caveats in the documentation: https://pandas.pydata.org/pandas-docs/stable/user_guide/indexing.html#returning-a-view-versus-a-copy\n",
            "/usr/local/lib/python3.6/dist-packages/ipykernel_launcher.py:27: SettingWithCopyWarning: \n",
            "A value is trying to be set on a copy of a slice from a DataFrame.\n",
            "Try using .loc[row_indexer,col_indexer] = value instead\n",
            "\n",
            "See the caveats in the documentation: https://pandas.pydata.org/pandas-docs/stable/user_guide/indexing.html#returning-a-view-versus-a-copy\n",
            "/usr/local/lib/python3.6/dist-packages/ipykernel_launcher.py:28: SettingWithCopyWarning: \n",
            "A value is trying to be set on a copy of a slice from a DataFrame.\n",
            "Try using .loc[row_indexer,col_indexer] = value instead\n",
            "\n",
            "See the caveats in the documentation: https://pandas.pydata.org/pandas-docs/stable/user_guide/indexing.html#returning-a-view-versus-a-copy\n",
            "/usr/local/lib/python3.6/dist-packages/ipykernel_launcher.py:29: SettingWithCopyWarning: \n",
            "A value is trying to be set on a copy of a slice from a DataFrame.\n",
            "Try using .loc[row_indexer,col_indexer] = value instead\n",
            "\n",
            "See the caveats in the documentation: https://pandas.pydata.org/pandas-docs/stable/user_guide/indexing.html#returning-a-view-versus-a-copy\n"
          ],
          "name": "stderr"
        }
      ]
    }
  ]
}